{
 "cells": [
  {
   "cell_type": "code",
   "execution_count": 1,
   "id": "de00a194",
   "metadata": {},
   "outputs": [],
   "source": [
    "#Importing OpenCV Library for basic image processing functions\n",
    "import cv2\n",
    "# Numpy for array related functions\n",
    "import numpy as np\n",
    "# Dlib for deep learning based Modules and face landmark detection\n",
    "import dlib\n",
    "#face_utils for basic operations of conversion\n",
    "from imutils import face_utils\n",
    "#importing Tkinter for registration\n",
    "from tkinter import *\n",
    "from tkinter import messagebox"
   ]
  },
  {
   "cell_type": "code",
   "execution_count": 2,
   "id": "2cf96539",
   "metadata": {},
   "outputs": [
    {
     "data": {
      "text/plain": [
       "'C:\\\\Users\\\\STUTI DUTTA\\\\Desktop\\\\amity\\\\Machine Learning\\\\Project\\\\Drowsiness Detection\\\\Details'"
      ]
     },
     "execution_count": 2,
     "metadata": {},
     "output_type": "execute_result"
    }
   ],
   "source": [
    "import os\n",
    "os.chdir('C:\\\\Users\\\\STUTI DUTTA\\\\Desktop\\\\amity\\\\Machine Learning\\\\Project\\\\Drowsiness Detection\\\\Details')\n",
    "os.getcwd()"
   ]
  },
  {
   "cell_type": "code",
   "execution_count": 3,
   "id": "08fe4062",
   "metadata": {},
   "outputs": [],
   "source": [
    "screen=Tk()\n",
    "screen.title(\"Sign In\")\n",
    "screen.geometry(\"500x300\")\n",
    "#screen.resizable(False,False)\n",
    "def submit_value():\n",
    "    name_info=name_value.get()\n",
    "    phone_info=phone_value.get()\n",
    "    address_info=address_value.get()\n",
    "    city_info=city_value.get()\n",
    "    state_info=state_value.get()\n",
    "    gender_info=gender_value.get()\n",
    "    \n",
    "    if (name_info==\"\"):\n",
    "        messagebox.showerror(\"Enter your name\")\n",
    "    elif (phone_info==\"\"):\n",
    "        messagebox.showerror(\"Enter your contact no.\")\n",
    "    elif (address_info==\"\"):\n",
    "        messagebox.showerror(\"Enter your address\")\n",
    "    elif (city_info==\"\"):\n",
    "        messagebox.showerror(\"Enter your city\")\n",
    "    elif (state_info==\"\"):\n",
    "        messagebox.showerror(\"Enter your city\")\n",
    "    elif(gender_info==\"\"):\n",
    "        messagebox.showerror(\"Enter your gender\")\n",
    "    else:\n",
    "        Label(screen, text=\"Submitted Successfully!\", font=\"Ariel 10 bold\", fg=\"red\" ).grid(row=9, column=3)\n",
    "    with open(name_info+\".txt\", 'w') as f:\n",
    "        f.write(name_info+\"\\n\")\n",
    "        f.write(phone_info+\"\\n\")\n",
    "        f.write(address_info+\"\\n\")\n",
    "        f.write(state_info+\"\\n\")\n",
    "        f.write(gender_info+\"\\n\")\n",
    "    \n",
    "\n",
    "def clear_value():\n",
    "    name_box.delete(0,END)\n",
    "    phone_box.delete(0,END)\n",
    "    address_box.delete(0,END)\n",
    "    city_box.delete(0,END)\n",
    "    state_box.delete(0,END)\n",
    "    gender_box.delete(0,END)\n",
    "    \n",
    "    \n",
    "\n",
    "Label(screen,text=\"Registration Form\", font=\"Ariel 20 bold underline\").grid(row=0,column=3)\n",
    "\n",
    "#details to be filled\n",
    "name=Label(screen,text=\"Name\")\n",
    "name.grid(row=1,column=2)\n",
    "\n",
    "phone=Label(screen,text=\"Contact No.\")\n",
    "phone.grid(row=2,column=2)\n",
    "\n",
    "address=Label(screen,text=\"Address\")\n",
    "address.grid(row=3,column=2)\n",
    "\n",
    "city=Label(screen,text=\"City\")\n",
    "city.grid(row=4,column=2)\n",
    "\n",
    "state=Label(screen,text=\"State\")\n",
    "state.grid(row=5,column=2)\n",
    "\n",
    "gender=Label(screen,text=\"Gender\")\n",
    "gender.grid(row=6,column=2)\n",
    "\n",
    "#what type of input\n",
    "\n",
    "name_value=StringVar()\n",
    "phone_value=StringVar()\n",
    "address_value=StringVar()\n",
    "city_value=StringVar()\n",
    "state_value=StringVar()\n",
    "gender_value=StringVar()\n",
    "check_value=IntVar()\n",
    "\n",
    "#For input\n",
    "\n",
    "name_box=Entry(screen, textvariable=name_value)\n",
    "name_box.grid(row=1, column=3)\n",
    "\n",
    "\n",
    "phone_box=Entry(screen, textvariable=phone_value)\n",
    "phone_box.grid(row=2, column=3)\n",
    "\n",
    "address_box=Entry(screen, textvariable=address_value)\n",
    "address_box.grid(row=3, column=3)\n",
    "\n",
    "city_box=Entry(screen, textvariable=city_value)\n",
    "city_box.grid(row=4, column=3)\n",
    "\n",
    "state_box=Entry(screen, textvariable=state_value)\n",
    "state_box.grid(row=5, column=3)\n",
    "\n",
    "gender_box=Entry(screen, textvariable=gender_value)\n",
    "gender_box.grid(row=6, column=3)\n",
    "\n",
    "check_box=Checkbutton(text=\"Remember Me!\", variable=check_value)\n",
    "check_box.grid(row=7, column=3)\n",
    "\n",
    "Button(text=\"Submit\", command=submit_value).grid(row=8, column=3)\n",
    "Button(text=\"Clear\").grid(row=10, column=4)\n",
    "\n",
    "mainloop()"
   ]
  },
  {
   "cell_type": "code",
   "execution_count": 4,
   "id": "9423d8a0",
   "metadata": {},
   "outputs": [
    {
     "data": {
      "text/plain": [
       "'C:\\\\Users\\\\STUTI DUTTA\\\\Desktop\\\\amity\\\\Machine Learning\\\\Project\\\\Drowsiness Detection'"
      ]
     },
     "execution_count": 4,
     "metadata": {},
     "output_type": "execute_result"
    }
   ],
   "source": [
    "os.chdir('C:\\\\Users\\\\STUTI DUTTA\\\\Desktop\\\\amity\\\\Machine Learning\\\\Project\\\\Drowsiness Detection')\n",
    "os.getcwd()"
   ]
  },
  {
   "cell_type": "code",
   "execution_count": 5,
   "id": "4223e5fe",
   "metadata": {},
   "outputs": [],
   "source": [
    "#Initializing the camera and taking the instance\n",
    "cam = cv2.VideoCapture(0)"
   ]
  },
  {
   "cell_type": "code",
   "execution_count": 6,
   "id": "98773cd8",
   "metadata": {},
   "outputs": [],
   "source": [
    "#Initializing the face detector and landmark detector\n",
    "detector = dlib.get_frontal_face_detector()\n",
    "predictor = dlib.shape_predictor(\"shape_predictor_68_face_landmarks.dat\")"
   ]
  },
  {
   "cell_type": "code",
   "execution_count": 7,
   "id": "6e0e079c",
   "metadata": {},
   "outputs": [],
   "source": [
    "#status marking for current state\n",
    "sleep = 0\n",
    "drowsy = 0\n",
    "active = 0\n",
    "status=\"\"\n",
    "color=(0,0,0)"
   ]
  },
  {
   "cell_type": "code",
   "execution_count": 8,
   "id": "a280b444",
   "metadata": {},
   "outputs": [],
   "source": [
    "def compute(ptA,ptB):\n",
    "    dist = np.linalg.norm(ptA - ptB)\n",
    "    return dist\n"
   ]
  },
  {
   "cell_type": "code",
   "execution_count": 9,
   "id": "42d66aea",
   "metadata": {},
   "outputs": [],
   "source": [
    "def blinked(a,b,c,d,e,f):\n",
    "    up = compute(b,d) + compute(c,e)\n",
    "    down = compute(a,f)\n",
    "    ratio = up/(2.0*down)\n",
    "    \n",
    "    #Checking if it is blinked\n",
    "    if(ratio>0.25):\n",
    "        return 2\n",
    "    elif(ratio>0.21 and ratio<=0.25):\n",
    "        return 1\n",
    "    else:\n",
    "        return 0\n"
   ]
  },
  {
   "cell_type": "code",
   "execution_count": 10,
   "id": "8f3257c3",
   "metadata": {},
   "outputs": [
    {
     "data": {
      "text/plain": [
       "'C:\\\\Users\\\\STUTI DUTTA\\\\Desktop\\\\amity\\\\Machine Learning\\\\Project\\\\Drowsiness Detection\\\\History'"
      ]
     },
     "execution_count": 10,
     "metadata": {},
     "output_type": "execute_result"
    }
   ],
   "source": [
    "os.chdir('C:\\\\Users\\\\STUTI DUTTA\\\\Desktop\\\\amity\\\\Machine Learning\\\\Project\\\\Drowsiness Detection\\\\History')\n",
    "os.getcwd()"
   ]
  },
  {
   "cell_type": "code",
   "execution_count": 11,
   "id": "7113b1e5",
   "metadata": {},
   "outputs": [
    {
     "name": "stdout",
     "output_type": "stream",
     "text": [
      "screenshot taken\n",
      "screenshot taken\n",
      "Escape hit, closing\n"
     ]
    },
    {
     "ename": "AttributeError",
     "evalue": "'cv2.VideoCapture' object has no attribute 'destroyAllWindows'",
     "output_type": "error",
     "traceback": [
      "\u001b[1;31m---------------------------------------------------------------------------\u001b[0m",
      "\u001b[1;31mAttributeError\u001b[0m                            Traceback (most recent call last)",
      "Input \u001b[1;32mIn [11]\u001b[0m, in \u001b[0;36m<cell line: 72>\u001b[1;34m()\u001b[0m\n\u001b[0;32m     68\u001b[0m         img\u001b[38;5;241m=\u001b[39mimg\u001b[38;5;241m+\u001b[39m\u001b[38;5;241m1\u001b[39m\n\u001b[0;32m     70\u001b[0m cam\u001b[38;5;241m.\u001b[39mrelease()\n\u001b[1;32m---> 72\u001b[0m \u001b[43mcam\u001b[49m\u001b[38;5;241;43m.\u001b[39;49m\u001b[43mdestroyAllWindows\u001b[49m()\n",
      "\u001b[1;31mAttributeError\u001b[0m: 'cv2.VideoCapture' object has no attribute 'destroyAllWindows'"
     ]
    }
   ],
   "source": [
    "img=0\n",
    "while True:\n",
    "    _, frame = cam.read()\n",
    "    gray = cv2.cvtColor(frame, cv2.COLOR_BGR2GRAY)\n",
    "\n",
    "    faces = detector(gray)\n",
    "    #detected face in faces array\n",
    "    for face in faces:\n",
    "        x1 = face.left()\n",
    "        y1 = face.top()\n",
    "        x2 = face.right()\n",
    "        y2 = face.bottom()\n",
    "\n",
    "        face_frame = frame.copy()\n",
    "        cv2.rectangle(face_frame, (x1, y1), (x2, y2), (0, 255, 0), 2)\n",
    "\n",
    "        landmarks = predictor(gray, face)\n",
    "        landmarks = face_utils.shape_to_np(landmarks)\n",
    "\n",
    "        #The numbers are actually the landmarks which will show eye\n",
    "        left_blink = blinked(landmarks[36],landmarks[37], \n",
    "            landmarks[38], landmarks[41], landmarks[40], landmarks[39])\n",
    "        right_blink = blinked(landmarks[42],landmarks[43], \n",
    "            landmarks[44], landmarks[47], landmarks[46], landmarks[45])\n",
    "        \n",
    "        #Now judge what to do for the eye blinks\n",
    "        if(left_blink==0 or right_blink==0):\n",
    "            sleep+=1\n",
    "            drowsy=0\n",
    "            active=0\n",
    "            if(sleep>6):\n",
    "                status=\"SLEEPING !!!\"\n",
    "                color = (255,0,0)\n",
    "\n",
    "        elif(left_blink==1 or right_blink==1):\n",
    "            sleep=0\n",
    "            active=0\n",
    "            drowsy+=1\n",
    "            if(drowsy>6):\n",
    "                status=\"Drowsy !\"\n",
    "                color = (0,0,255)\n",
    "\n",
    "        else:\n",
    "            drowsy=0\n",
    "            sleep=0\n",
    "            active+=1\n",
    "            if(active>6):\n",
    "                status=\"Active :)\"\n",
    "                color = (0,255,0)\n",
    "                \n",
    "        cv2.putText(frame, status, (100,100), cv2.FONT_HERSHEY_SIMPLEX, 1.2, color,3)\n",
    "\n",
    "        for n in range(0, 68):\n",
    "            (x,y) = landmarks[n]\n",
    "            cv2.circle(face_frame, (x, y), 1, (255, 255, 255), -1)\n",
    "    face_frame = frame.copy()\n",
    "    #cv2.imshow(\"Frame\", frame)\n",
    "    cv2.imshow(\"Result of detector\", face_frame)\n",
    "    k = cv2.waitKey(1)\n",
    "    #k=cv2.waitKey(1)\n",
    "    if k%256==27:\n",
    "        print(\"Escape hit, closing\")\n",
    "        break\n",
    "    elif k%256==32:\n",
    "        img_name=\"opencv_frame_{}.jpeg\".format(img)\n",
    "        cv2.imwrite(img_name,frame)\n",
    "        print(\"screenshot taken\")\n",
    "        img=img+1\n",
    "\n",
    "cam.release()\n",
    "\n",
    "cam.destroyAllWindows()\n"
   ]
  },
  {
   "cell_type": "code",
   "execution_count": null,
   "id": "a70fd193",
   "metadata": {},
   "outputs": [],
   "source": []
  }
 ],
 "metadata": {
  "kernelspec": {
   "display_name": "Python 3 (ipykernel)",
   "language": "python",
   "name": "python3"
  },
  "language_info": {
   "codemirror_mode": {
    "name": "ipython",
    "version": 3
   },
   "file_extension": ".py",
   "mimetype": "text/x-python",
   "name": "python",
   "nbconvert_exporter": "python",
   "pygments_lexer": "ipython3",
   "version": "3.9.12"
  }
 },
 "nbformat": 4,
 "nbformat_minor": 5
}
