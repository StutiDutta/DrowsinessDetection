{
 "cells": [
  {
   "cell_type": "code",
   "execution_count": 6,
   "id": "ea40c5df",
   "metadata": {},
   "outputs": [],
   "source": [
    "from tkinter import *"
   ]
  },
  {
   "cell_type": "code",
   "execution_count": 29,
   "id": "f231a2a8",
   "metadata": {},
   "outputs": [],
   "source": [
    "import os"
   ]
  },
  {
   "cell_type": "code",
   "execution_count": 32,
   "id": "3b1100e4",
   "metadata": {},
   "outputs": [
    {
     "data": {
      "text/plain": [
       "'C:\\\\Users\\\\STUTI DUTTA\\\\DrowsinessDetection'"
      ]
     },
     "execution_count": 32,
     "metadata": {},
     "output_type": "execute_result"
    }
   ],
   "source": [
    "os.getcwd()"
   ]
  },
  {
   "cell_type": "code",
   "execution_count": 33,
   "id": "21a0f1d9",
   "metadata": {},
   "outputs": [],
   "source": [
    "os.chdir('C:\\\\Users\\\\STUTI DUTTA\\\\Desktop\\\\amity\\\\Machine Learning\\\\Project\\\\Drowsiness Detection')"
   ]
  },
  {
   "cell_type": "code",
   "execution_count": 34,
   "id": "b4f741f8",
   "metadata": {},
   "outputs": [
    {
     "data": {
      "text/plain": [
       "'C:\\\\Users\\\\STUTI DUTTA\\\\Desktop\\\\amity\\\\Machine Learning\\\\Project\\\\Drowsiness Detection'"
      ]
     },
     "execution_count": 34,
     "metadata": {},
     "output_type": "execute_result"
    }
   ],
   "source": [
    "os.getcwd()"
   ]
  },
  {
   "cell_type": "code",
   "execution_count": 51,
   "id": "8b90475b",
   "metadata": {},
   "outputs": [
    {
     "name": "stdout",
     "output_type": "stream",
     "text": [
      "Information Saved Successfully!\n",
      "Information Saved Successfully!\n",
      "Information Saved Successfully!\n",
      "Information Saved Successfully!\n",
      "Information Saved Successfully!\n",
      "Information Saved Successfully!\n",
      "Information deleted!\n",
      "Information deleted!\n",
      "Information deleted!\n",
      "Information deleted!\n"
     ]
    }
   ],
   "source": [
    "root=Tk()\n",
    "root.geometry(\"500x300\")\n",
    "\n",
    "def submit_value():\n",
    "    print(\"Information Saved Successfully!\")\n",
    "    \n",
    "def clear_value():\n",
    "    print(\"Information deleted!\")\n",
    "\n",
    "Label(root,text=\"Registration Form\", font=\"Ariel 20 bold underline\").grid(row=0,column=3)\n",
    "\n",
    "#Information to be displayed\n",
    "\n",
    "name=Label(root,text=\"Name\")\n",
    "name.grid(row=1,column=2)\n",
    "\n",
    "phone=Label(root,text=\"Contact No.\")\n",
    "phone.grid(row=2,column=2)\n",
    "\n",
    "address=Label(root,text=\"Address\")\n",
    "address.grid(row=3,column=2)\n",
    "\n",
    "city=Label(root,text=\"City\")\n",
    "city.grid(row=4,column=2)\n",
    "\n",
    "state=Label(root,text=\"State\")\n",
    "state.grid(row=5,column=2)\n",
    "\n",
    "gender=Label(root,text=\"Gender\")\n",
    "gender.grid(row=6,column=2)\n",
    "\n",
    "#what type of input\n",
    "\n",
    "name_value=StringVar()\n",
    "phone_value=StringVar()\n",
    "address_value=StringVar()\n",
    "city_value=StringVar()\n",
    "state_value=StringVar()\n",
    "gender_value=StringVar()\n",
    "check_value=IntVar()\n",
    "\n",
    "#For input\n",
    "\n",
    "name_box=Entry(root, textvariable=name_value)\n",
    "name_box.grid(row=1, column=3)\n",
    "\n",
    "\n",
    "phone_box=Entry(root, textvariable=phone_value)\n",
    "phone_box.grid(row=2, column=3)\n",
    "\n",
    "address_box=Entry(root, textvariable=address_value)\n",
    "address_box.grid(row=3, column=3)\n",
    "\n",
    "city_box=Entry(root, textvariable=city_value)\n",
    "city_box.grid(row=4, column=3)\n",
    "\n",
    "state_box=Entry(root, textvariable=state_value)\n",
    "state_box.grid(row=5, column=3)\n",
    "\n",
    "gender_box=Entry(root, textvariable=gender_value)\n",
    "gender_box.grid(row=6, column=3)\n",
    "\n",
    "check_box=Checkbutton(text=\"Remember Me!\", variable=check_value)\n",
    "check_box.grid(row=7, column=3)\n",
    "\n",
    "Button(text=\"Submit\", command=submit_value).grid(row=8, column=3)\n",
    "Button(text=\"Clear\", command=clear_value).grid(row=10, column=3)\n",
    "\n",
    "\n",
    "\n",
    "root.mainloop()"
   ]
  },
  {
   "cell_type": "code",
   "execution_count": null,
   "id": "c154c910",
   "metadata": {},
   "outputs": [],
   "source": []
  },
  {
   "cell_type": "code",
   "execution_count": null,
   "id": "40524f78",
   "metadata": {},
   "outputs": [],
   "source": []
  }
 ],
 "metadata": {
  "kernelspec": {
   "display_name": "Python 3 (ipykernel)",
   "language": "python",
   "name": "python3"
  },
  "language_info": {
   "codemirror_mode": {
    "name": "ipython",
    "version": 3
   },
   "file_extension": ".py",
   "mimetype": "text/x-python",
   "name": "python",
   "nbconvert_exporter": "python",
   "pygments_lexer": "ipython3",
   "version": "3.9.12"
  }
 },
 "nbformat": 4,
 "nbformat_minor": 5
}
