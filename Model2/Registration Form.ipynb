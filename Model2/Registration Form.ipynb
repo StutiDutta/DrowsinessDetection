{
 "cells": [
  {
   "cell_type": "code",
   "execution_count": 36,
   "id": "90151853",
   "metadata": {},
   "outputs": [],
   "source": [
    "from tkinter import *\n",
    "from tkinter import messagebox"
   ]
  },
  {
   "cell_type": "code",
   "execution_count": 2,
   "id": "d985c463",
   "metadata": {},
   "outputs": [],
   "source": [
    "import os"
   ]
  },
  {
   "cell_type": "code",
   "execution_count": 3,
   "id": "1709cce6",
   "metadata": {},
   "outputs": [
    {
     "data": {
      "text/plain": [
       "'C:\\\\Users\\\\STUTI DUTTA\\\\DrowsinessDetection'"
      ]
     },
     "execution_count": 3,
     "metadata": {},
     "output_type": "execute_result"
    }
   ],
   "source": [
    "os.getcwd()"
   ]
  },
  {
   "cell_type": "code",
   "execution_count": 4,
   "id": "0859101e",
   "metadata": {},
   "outputs": [],
   "source": [
    "os.chdir('C:\\\\Users\\\\STUTI DUTTA\\\\Desktop\\\\amity\\\\Machine Learning\\\\Project\\\\Drowsiness Detection')"
   ]
  },
  {
   "cell_type": "code",
   "execution_count": 5,
   "id": "2770cab8",
   "metadata": {},
   "outputs": [
    {
     "data": {
      "text/plain": [
       "'C:\\\\Users\\\\STUTI DUTTA\\\\Desktop\\\\amity\\\\Machine Learning\\\\Project\\\\Drowsiness Detection'"
      ]
     },
     "execution_count": 5,
     "metadata": {},
     "output_type": "execute_result"
    }
   ],
   "source": [
    "os.getcwd()"
   ]
  },
  {
   "cell_type": "code",
   "execution_count": 45,
   "id": "963191d0",
   "metadata": {},
   "outputs": [],
   "source": [
    "screen=Tk()\n",
    "screen.title(\"Sign In\")\n",
    "screen.geometry(\"500x200\")\n",
    "#screen.resizable(False,False)\n",
    "def submit_value():\n",
    "    name_info=name_value.get()\n",
    "    phone_info=phone_value.get()\n",
    "    address_info=address_value.get()\n",
    "    city_info=city_value.get()\n",
    "    state_info=state_value.get()\n",
    "    gender_info=gender_value.get()\n",
    "    \n",
    "    if (name_info==\"\"):\n",
    "        messagebox.showerror(\"Enter your name\")\n",
    "    elif (phone_info==\"\"):\n",
    "        messagebox.showerror(\"Enter your contact no.\")\n",
    "    elif (address_info==\"\"):\n",
    "        messagebox.showerror(\"Enter your address\")\n",
    "    elif (city_info==\"\"):\n",
    "        messagebox.showerror(\"Enter your city\")\n",
    "    elif (state_info==\"\"):\n",
    "        messagebox.showerror(\"Enter your city\")\n",
    "    elif(gender_info==\"\"):\n",
    "        messagebox.showerror(\"Enter your gender\")\n",
    "    else:\n",
    "        Label(screen, text=\"Submitted Successfully!\", font=\"Ariel 10 bold\", fg=\"red\" ).grid(row=9, column=3)\n",
    "    with open(name_info+\".txt\", 'w') as f:\n",
    "        f.write(name_info+\"\\n\")\n",
    "        f.write(phone_info+\"\\n\")\n",
    "        f.write(address_info+\"\\n\")\n",
    "        f.write(state_info+\"\\n\")\n",
    "        f.write(gender_info+\"\\n\")\n",
    "    \n",
    "\n",
    "def clear_value():\n",
    "    name_box.delete(0,END)\n",
    "    phone_box.delete(0,END)\n",
    "    address_box.delete(0,END)\n",
    "    city_box.delete(0,END)\n",
    "    state_box.delete(0,END)\n",
    "    gender_box.delete(0,END)\n",
    "    \n",
    "    \n",
    "\n",
    "Label(screen,text=\"Registration Form\", font=\"Ariel 20 bold underline\").grid(row=0,column=3)\n",
    "\n",
    "#details to be filled\n",
    "name=Label(screen,text=\"Name\")\n",
    "name.grid(row=1,column=2)\n",
    "\n",
    "phone=Label(screen,text=\"Contact No.\")\n",
    "phone.grid(row=2,column=2)\n",
    "\n",
    "address=Label(screen,text=\"Address\")\n",
    "address.grid(row=3,column=2)\n",
    "\n",
    "city=Label(screen,text=\"City\")\n",
    "city.grid(row=4,column=2)\n",
    "\n",
    "state=Label(screen,text=\"State\")\n",
    "state.grid(row=5,column=2)\n",
    "\n",
    "gender=Label(screen,text=\"Gender\")\n",
    "gender.grid(row=6,column=2)\n",
    "\n",
    "#what type of input\n",
    "\n",
    "name_value=StringVar()\n",
    "phone_value=StringVar()\n",
    "address_value=StringVar()\n",
    "city_value=StringVar()\n",
    "state_value=StringVar()\n",
    "gender_value=StringVar()\n",
    "check_value=IntVar()\n",
    "\n",
    "#For input\n",
    "\n",
    "name_box=Entry(screen, textvariable=name_value)\n",
    "name_box.grid(row=1, column=3)\n",
    "\n",
    "\n",
    "phone_box=Entry(screen, textvariable=phone_value)\n",
    "phone_box.grid(row=2, column=3)\n",
    "\n",
    "address_box=Entry(screen, textvariable=address_value)\n",
    "address_box.grid(row=3, column=3)\n",
    "\n",
    "city_box=Entry(screen, textvariable=city_value)\n",
    "city_box.grid(row=4, column=3)\n",
    "\n",
    "state_box=Entry(screen, textvariable=state_value)\n",
    "state_box.grid(row=5, column=3)\n",
    "\n",
    "gender_box=Entry(screen, textvariable=gender_value)\n",
    "gender_box.grid(row=6, column=3)\n",
    "\n",
    "check_box=Checkbutton(text=\"Remember Me!\", variable=check_value)\n",
    "check_box.grid(row=7, column=3)\n",
    "\n",
    "Button(text=\"Submit\", command=submit_value).grid(row=8, column=3)\n",
    "Button(text=\"Clear\").grid(row=10, column=4)\n",
    "\n",
    "mainloop()"
   ]
  },
  {
   "cell_type": "code",
   "execution_count": null,
   "id": "11c304d1",
   "metadata": {},
   "outputs": [],
   "source": []
  },
  {
   "cell_type": "code",
   "execution_count": null,
   "id": "bbf3e62b",
   "metadata": {},
   "outputs": [],
   "source": []
  }
 ],
 "metadata": {
  "kernelspec": {
   "display_name": "Python 3 (ipykernel)",
   "language": "python",
   "name": "python3"
  },
  "language_info": {
   "codemirror_mode": {
    "name": "ipython",
    "version": 3
   },
   "file_extension": ".py",
   "mimetype": "text/x-python",
   "name": "python",
   "nbconvert_exporter": "python",
   "pygments_lexer": "ipython3",
   "version": "3.9.12"
  }
 },
 "nbformat": 4,
 "nbformat_minor": 5
}
